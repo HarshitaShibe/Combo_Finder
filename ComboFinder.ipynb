{
  "nbformat": 4,
  "nbformat_minor": 0,
  "metadata": {
    "colab": {
      "provenance": [],
      "authorship_tag": "ABX9TyNOyjTEVNrf7Ktay+44OPOr",
      "include_colab_link": true
    },
    "kernelspec": {
      "name": "python3",
      "display_name": "Python 3"
    },
    "language_info": {
      "name": "python"
    }
  },
  "cells": [
    {
      "cell_type": "markdown",
      "metadata": {
        "id": "view-in-github",
        "colab_type": "text"
      },
      "source": [
        "<a href=\"https://colab.research.google.com/github/HarshitaShibe/Combo_Finder/blob/main/ComboFinder.ipynb\" target=\"_parent\"><img src=\"https://colab.research.google.com/assets/colab-badge.svg\" alt=\"Open In Colab\"/></a>"
      ]
    },
    {
      "cell_type": "markdown",
      "source": [
        "## **Combo-Finder**"
      ],
      "metadata": {
        "id": "9WrYTJNAlgAs"
      }
    },
    {
      "cell_type": "markdown",
      "source": [
        "**Problem Statment :** Find all the list of products whose sum-of-price is between 290 and 310.\n"
      ],
      "metadata": {
        "id": "xonQkYkmlpcH"
      }
    },
    {
      "cell_type": "markdown",
      "source": [
        "Let's break things down step by step to understand better!\n"
      ],
      "metadata": {
        "id": "zgICwfuaIZtD"
      }
    },
    {
      "cell_type": "markdown",
      "source": [
        "**STEP** **ONE** **:** **LIBRARY** **INCLUSION**"
      ],
      "metadata": {
        "id": "AZzQFCx5JA0n"
      }
    },
    {
      "cell_type": "code",
      "source": [
        "import random as r"
      ],
      "metadata": {
        "id": "bXIxiaIYJPAv"
      },
      "execution_count": 63,
      "outputs": []
    },
    {
      "cell_type": "markdown",
      "source": [
        "**STEP** **TWO** **:** **PARAMETER** **SETTING**"
      ],
      "metadata": {
        "id": "lgE1CY5IJZJ-"
      }
    },
    {
      "cell_type": "code",
      "source": [
        "ProductList = {'p1':10,'p2':15, 'p3':20, 'p4':25, 'p5':30, 'p6':35, 'p7':50,\n",
        "            'p8':40, 'p9':55, 'p10':60, 'p11':65, 'p12':75, 'p13':70,'p14':45}\n",
        "LB = 290 # Lower Bound\n",
        "UB = 310 # Upper Bound\n",
        "ResultList = set() # sets whose sum is between 290 and 310 are formed\n",
        "Iterations = 1000 # Number of Iterations"
      ],
      "metadata": {
        "id": "uWsF3-RWJns6"
      },
      "execution_count": 64,
      "outputs": []
    },
    {
      "cell_type": "markdown",
      "source": [
        "**STEP THREE : SINGLE RUN**"
      ],
      "metadata": {
        "id": "QcaWC4eqCMRE"
      }
    },
    {
      "cell_type": "code",
      "source": [
        "SetSize = r.randint(2, len(ProductList)-1) # selects the size of the set randomly from range (2, 13)\n",
        "print(\"Number of Product : \", SetSize)\n",
        "\n",
        "ComboList = r.sample(list(ProductList.keys()),SetSize) # Random sampling of the keywords of the\n",
        "# ProductList on the basis of the given condition and formation of List of the ProductList keywords.\n",
        "print(\"Product List : \",ComboList)\n",
        "\n",
        "ComboSum = sum([ProductList[i] for i in ComboList]) # Gives sum of the values of keywords of\n",
        "# the ProductList present in ComboList as per the given condition\n",
        "print(\"Sum of Product : \", ComboSum)\n"
      ],
      "metadata": {
        "id": "WTSOzpOZCeDk",
        "colab": {
          "base_uri": "https://localhost:8080/"
        },
        "outputId": "03ce5108-451d-43bf-cf2f-f7f4641790b5"
      },
      "execution_count": 65,
      "outputs": [
        {
          "output_type": "stream",
          "name": "stdout",
          "text": [
            "Number of Product :  7\n",
            "Product List :  ['p3', 'p12', 'p1', 'p11', 'p9', 'p13', 'p2']\n",
            "Sum of Product :  310\n"
          ]
        }
      ]
    },
    {
      "cell_type": "markdown",
      "source": [
        "**STEP FOUR : START THE PROGRAM**\n"
      ],
      "metadata": {
        "id": "Lq3Ratpm0eSK"
      }
    },
    {
      "cell_type": "code",
      "source": [
        "ResultList  = set()\n",
        "\n",
        "for i in range(Iterations): # Loop till number of Iterations\n",
        "\n",
        "    # Select combo size\n",
        "    SetSize = r.randint(2, len(ProductList)-1)\n",
        "\n",
        "    # Select number of elements from Set\n",
        "    ComboList = r.sample(list(ProductList.keys()),SetSize)\n",
        "\n",
        "    # Sum the products in ComboList\n",
        "    ComboSum = sum([ ProductList[i] for i in ComboList])\n",
        "\n",
        "    # Check if the Sum Between LB and UB\n",
        "    if ComboSum>= LB and ComboSum<= UB:\n",
        "      ResultList.add(tuple(ComboList))\n",
        "\n",
        "print(\"Done\")"
      ],
      "metadata": {
        "colab": {
          "base_uri": "https://localhost:8080/"
        },
        "id": "3OzWY88L1KCy",
        "outputId": "d74f2c61-7f76-4d44-fff1-f3d51832f133"
      },
      "execution_count": 66,
      "outputs": [
        {
          "output_type": "stream",
          "name": "stdout",
          "text": [
            "Done\n"
          ]
        }
      ]
    },
    {
      "cell_type": "markdown",
      "source": [
        "**STEP FIVE : PRINT THE ComboList AND TOTAL COUNT**"
      ],
      "metadata": {
        "id": "2n-OC3acvVui"
      }
    },
    {
      "cell_type": "code",
      "source": [
        "for r in ResultList :\n",
        "  print(r)\n",
        "\n",
        "print(\"\\nTotal Sets :\",len(ResultList))"
      ],
      "metadata": {
        "colab": {
          "base_uri": "https://localhost:8080/"
        },
        "id": "RcjbNuTLvhST",
        "outputId": "75fe3194-71d0-44c8-d9d8-ee453fbcd1ef"
      },
      "execution_count": 67,
      "outputs": [
        {
          "output_type": "stream",
          "name": "stdout",
          "text": [
            "('p12', 'p1', 'p8', 'p5', 'p7', 'p2', 'p14', 'p6')\n",
            "('p12', 'p9', 'p11', 'p3', 'p6', 'p8')\n",
            "('p14', 'p5', 'p2', 'p10', 'p6', 'p11', 'p9')\n",
            "('p11', 'p8', 'p9', 'p10', 'p12', 'p2')\n",
            "('p7', 'p2', 'p4', 'p8', 'p14', 'p13', 'p9')\n",
            "('p12', 'p13', 'p3', 'p6', 'p4', 'p1', 'p14', 'p2')\n",
            "('p7', 'p2', 'p1', 'p12', 'p4', 'p9', 'p13')\n",
            "('p9', 'p7', 'p11', 'p10', 'p8', 'p5')\n",
            "('p10', 'p4', 'p9', 'p2', 'p3', 'p8', 'p1', 'p12')\n",
            "('p10', 'p12', 'p5', 'p9', 'p4', 'p11')\n",
            "('p11', 'p13', 'p10', 'p7', 'p14')\n",
            "('p8', 'p12', 'p13', 'p1', 'p4', 'p3', 'p14', 'p2')\n",
            "('p8', 'p10', 'p11', 'p3', 'p6', 'p5', 'p9')\n",
            "('p5', 'p4', 'p6', 'p12', 'p7', 'p14', 'p8')\n",
            "('p5', 'p10', 'p4', 'p13', 'p11', 'p14')\n",
            "('p13', 'p10', 'p4', 'p14', 'p8', 'p5', 'p1', 'p3')\n",
            "('p11', 'p13', 'p3', 'p9', 'p10', 'p8')\n",
            "('p10', 'p9', 'p3', 'p6', 'p13', 'p5', 'p4')\n",
            "('p4', 'p8', 'p6', 'p1', 'p10', 'p11', 'p9', 'p3')\n",
            "('p3', 'p6', 'p13', 'p7', 'p2', 'p14', 'p9')\n",
            "('p4', 'p14', 'p7', 'p11', 'p1', 'p8', 'p2', 'p9')\n",
            "('p10', 'p11', 'p3', 'p1', 'p6', 'p5', 'p4', 'p14')\n",
            "('p9', 'p6', 'p12', 'p1', 'p13', 'p14')\n",
            "('p3', 'p4', 'p13', 'p5', 'p8', 'p9', 'p11')\n",
            "('p6', 'p5', 'p1', 'p13', 'p10', 'p9', 'p7')\n",
            "('p11', 'p1', 'p10', 'p5', 'p3', 'p14', 'p12')\n",
            "('p7', 'p13', 'p5', 'p9', 'p10', 'p3', 'p4')\n",
            "('p12', 'p2', 'p3', 'p11', 'p13', 'p14')\n",
            "('p13', 'p6', 'p7', 'p1', 'p3', 'p9', 'p8', 'p4')\n",
            "('p5', 'p9', 'p3', 'p4', 'p8', 'p14', 'p12')\n",
            "('p13', 'p5', 'p12', 'p4', 'p1', 'p2', 'p8', 'p14')\n",
            "('p10', 'p4', 'p12', 'p1', 'p9', 'p2', 'p3', 'p8')\n",
            "('p2', 'p14', 'p11', 'p10', 'p9', 'p13')\n",
            "('p9', 'p11', 'p6', 'p3', 'p2', 'p8', 'p10')\n",
            "('p8', 'p10', 'p14', 'p4', 'p1', 'p2', 'p6', 'p11')\n",
            "('p12', 'p2', 'p10', 'p5', 'p13', 'p9')\n",
            "('p6', 'p3', 'p11', 'p13', 'p14', 'p9')\n",
            "('p12', 'p14', 'p3', 'p7', 'p5', 'p13')\n",
            "('p6', 'p5', 'p14', 'p9', 'p8', 'p4', 'p11')\n",
            "('p12', 'p9', 'p3', 'p5', 'p2', 'p13', 'p14')\n",
            "('p7', 'p6', 'p9', 'p2', 'p12', 'p10')\n",
            "('p13', 'p11', 'p1', 'p5', 'p14', 'p12')\n",
            "('p2', 'p6', 'p1', 'p4', 'p7', 'p8', 'p11', 'p10')\n",
            "\n",
            "Total Sets : 43\n"
          ]
        }
      ]
    },
    {
      "cell_type": "markdown",
      "source": [
        "## **Complete Program with Sorting**"
      ],
      "metadata": {
        "id": "jPl-r2_jDUZT"
      }
    },
    {
      "cell_type": "code",
      "source": [
        "# Step One :- Library Inclusion\n",
        "import random as r\n",
        "\n",
        "\n",
        "# Step Two :- Dictionary named ProductList where keywords represent product IDs\n",
        "# and values represent products price is created.\n",
        "ProductList = {'p1':10, 'p2':15, 'p3':20, 'p4':25, 'p5':30, 'p6':35, 'p7':50,\n",
        "               'p8':40,'p9':55, 'p10':60, 'p11':65, 'p12':75, 'p13':70,'p14':45}\n",
        "\n",
        "\n",
        "#Step Three :-\n",
        "LB          = 290 # Lower Bound for Acceptable Combo Sums\n",
        "UB          = 310 # Upper Bound for Acceptable Combo Sums\n",
        "\n",
        "\n",
        "# Step Four :-\n",
        "ResultList  = set()   # Store sets that match the sum condition\n",
        "Iterations  = 1000    # Number of Iterations\n",
        "\n",
        "\n",
        "# Step Five :-\n",
        "for i in range(Iterations):\n",
        "\n",
        "    # Select Combo Size -\n",
        "    SetSize = r.randint(2, len(ProductList)-1) # Randomly picks number of products in a combo\n",
        "\n",
        "    # Select Number of Elements from Set -\n",
        "    ComboList = r.sample(list(ProductList.keys()),SetSize)\n",
        "    ComboList.sort() # Sorting\n",
        "\n",
        "    # Sum the Products in ComboList -\n",
        "    ComboSum = sum([ ProductList[i] for i in ComboList])\n",
        "\n",
        "    # Checking if the Sum is Between Lower Bound and Upper Bound -\n",
        "    if ComboSum>= LB and ComboSum<= UB:\n",
        "      ResultList.add(tuple(ComboList)) # Since sets can't hold lists, the ComboList\n",
        "                                       # is converted to a tuple and added to ResultList\n",
        "                                       # ensuring unique combinations\n",
        "\n",
        "\n",
        "# Step Six :- Print all the sets whose Sum is between Lower Bound and Upper Bound\n",
        "for r in ResultList:\n",
        "\tprint (r)\n",
        "\n",
        "\n",
        "# Step Seven :- Print Total Sets\n",
        "print (\"\\nTotal Sets: \", len(ResultList), \"\\n\")\n",
        "\n"
      ],
      "metadata": {
        "colab": {
          "base_uri": "https://localhost:8080/"
        },
        "id": "1j-pYKh3xvNs",
        "outputId": "90942c39-c2ce-459b-ab32-9c9caa24222a"
      },
      "execution_count": 68,
      "outputs": [
        {
          "output_type": "stream",
          "name": "stdout",
          "text": [
            "('p10', 'p12', 'p13', 'p14', 'p2', 'p6')\n",
            "('p1', 'p10', 'p11', 'p14', 'p3', 'p4', 'p5', 'p9')\n",
            "('p10', 'p12', 'p13', 'p2', 'p3', 'p5', 'p6')\n",
            "('p10', 'p11', 'p12', 'p2', 'p7', 'p8')\n",
            "('p10', 'p11', 'p13', 'p14', 'p3', 'p5')\n",
            "('p10', 'p11', 'p12', 'p2', 'p3', 'p4', 'p6')\n",
            "('p1', 'p12', 'p13', 'p3', 'p4', 'p7', 'p8')\n",
            "('p10', 'p11', 'p13', 'p14', 'p2', 'p9')\n",
            "('p1', 'p12', 'p13', 'p14', 'p2', 'p8', 'p9')\n",
            "('p1', 'p10', 'p12', 'p14', 'p3', 'p4', 'p5', 'p6')\n",
            "('p1', 'p10', 'p11', 'p14', 'p2', 'p3', 'p5', 'p9')\n",
            "('p1', 'p11', 'p12', 'p4', 'p5', 'p7', 'p9')\n",
            "('p11', 'p12', 'p4', 'p5', 'p7', 'p9')\n",
            "('p11', 'p13', 'p14', 'p6', 'p7', 'p8')\n",
            "('p10', 'p11', 'p12', 'p7', 'p9')\n",
            "('p1', 'p10', 'p13', 'p4', 'p5', 'p7', 'p9')\n",
            "('p1', 'p10', 'p11', 'p13', 'p2', 'p4', 'p5', 'p6')\n",
            "('p1', 'p12', 'p14', 'p3', 'p7', 'p8', 'p9')\n",
            "('p1', 'p11', 'p4', 'p5', 'p6', 'p7', 'p8', 'p9')\n",
            "('p11', 'p13', 'p14', 'p2', 'p4', 'p7', 'p8')\n",
            "('p1', 'p12', 'p13', 'p2', 'p3', 'p4', 'p6', 'p7')\n",
            "('p1', 'p10', 'p11', 'p13', 'p3', 'p5', 'p7')\n",
            "('p1', 'p11', 'p14', 'p2', 'p4', 'p6', 'p7', 'p9')\n",
            "('p1', 'p10', 'p12', 'p13', 'p14', 'p3', 'p4')\n",
            "('p10', 'p12', 'p13', 'p3', 'p4', 'p9')\n",
            "('p1', 'p10', 'p11', 'p12', 'p2', 'p5', 'p6')\n",
            "('p10', 'p11', 'p13', 'p3', 'p6', 'p8')\n",
            "('p11', 'p13', 'p5', 'p6', 'p7', 'p9')\n",
            "('p1', 'p11', 'p14', 'p2', 'p3', 'p4', 'p5', 'p7', 'p8')\n",
            "('p1', 'p10', 'p14', 'p3', 'p5', 'p6', 'p8', 'p9')\n",
            "('p10', 'p13', 'p3', 'p5', 'p6', 'p7', 'p8')\n",
            "('p1', 'p10', 'p11', 'p12', 'p14', 'p3', 'p6')\n",
            "('p10', 'p11', 'p13', 'p14', 'p4', 'p8')\n",
            "('p1', 'p11', 'p13', 'p14', 'p4', 'p6', 'p9')\n",
            "('p1', 'p10', 'p2', 'p3', 'p4', 'p5', 'p7', 'p8', 'p9')\n",
            "('p11', 'p12', 'p14', 'p3', 'p4', 'p6', 'p8')\n",
            "('p13', 'p2', 'p3', 'p4', 'p5', 'p7', 'p8', 'p9')\n",
            "('p1', 'p10', 'p11', 'p13', 'p3', 'p5', 'p6')\n",
            "('p10', 'p12', 'p14', 'p5', 'p8', 'p9')\n",
            "('p1', 'p10', 'p11', 'p12', 'p5', 'p9')\n",
            "('p10', 'p11', 'p12', 'p13', 'p4')\n",
            "('p10', 'p11', 'p14', 'p2', 'p3', 'p8', 'p9')\n",
            "('p11', 'p12', 'p3', 'p5', 'p7', 'p9')\n",
            "('p1', 'p10', 'p11', 'p2', 'p4', 'p6', 'p8', 'p9')\n",
            "\n",
            "Total Sets:  44 \n",
            "\n"
          ]
        }
      ]
    }
  ]
}